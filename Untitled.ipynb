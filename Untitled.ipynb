{
 "cells": [
  {
   "cell_type": "code",
   "execution_count": 1,
   "metadata": {
    "collapsed": true
   },
   "outputs": [],
   "source": [
    "import pandas\n",
    "import ipywidgets as widgets"
   ]
  },
  {
   "cell_type": "code",
   "execution_count": 2,
   "metadata": {
    "collapsed": true
   },
   "outputs": [],
   "source": [
    "data=pandas.DataFrame.from_csv('matchland.csv',index_col=None)"
   ]
  },
  {
   "cell_type": "code",
   "execution_count": 3,
   "metadata": {
    "collapsed": true
   },
   "outputs": [],
   "source": [
    "basecols=list(data.keys()[:3])\n",
    "beasts=list(data.keys()[3:])"
   ]
  },
  {
   "cell_type": "code",
   "execution_count": 4,
   "metadata": {
    "collapsed": true
   },
   "outputs": [],
   "source": [
    "target=widgets.Dropdown(\n",
    "    options=beasts,\n",
    "    value=beasts[0],\n",
    "    description='Beast:',\n",
    "    disabled=False,\n",
    ")"
   ]
  },
  {
   "cell_type": "code",
   "execution_count": 5,
   "metadata": {
    "collapsed": true
   },
   "outputs": [],
   "source": [
    "def levels(change):\n",
    "    try:\n",
    "        #print(change)\n",
    "        value=change['new']['value']\n",
    "        print(data.sort_values(value,ascending=False)[['World', 'Level', 'Cost']+ [value]].dropna())\n",
    "    except:\n",
    "        pass"
   ]
  },
  {
   "cell_type": "code",
   "execution_count": 6,
   "metadata": {
    "collapsed": true
   },
   "outputs": [],
   "source": [
    "target.observe(levels)"
   ]
  },
  {
   "cell_type": "code",
   "execution_count": 7,
   "metadata": {},
   "outputs": [
    {
     "data": {},
     "metadata": {},
     "output_type": "display_data"
    },
    {
     "name": "stdout",
     "output_type": "stream",
     "text": [
      "    World  Level  Cost  Champi\n",
      "12      1     13     7     8.0\n",
      "42      1     43     6     5.0\n",
      "15      1     16     5     4.0\n",
      "37      1     38     6     3.0\n",
      "26      1     27     6     3.0\n",
      "10      1     11     5     3.0\n",
      "9       1     10     5     3.0\n",
      "48      1     49     7     3.0\n",
      "45      1     46     6     2.0\n",
      "43      1     44     6     2.0\n",
      "7       1      8     5     2.0\n",
      "41      1     42     6     2.0\n",
      "38      1     39     6     2.0\n",
      "36      1     37     6     2.0\n",
      "35      1     36     6     2.0\n",
      "33      1     34     8     2.0\n",
      "32      1     33     7     2.0\n",
      "30      1     31     6     2.0\n",
      "27      1     28     6     2.0\n",
      "6       1      7     5     2.0\n",
      "25      1     26     6     2.0\n",
      "20      1     21     5     2.0\n",
      "8       1      9     5     2.0\n",
      "11      1     12     5     2.0\n",
      "13      1     14     5     2.0\n",
      "14      1     15     5     2.0\n",
      "17      1     18     5     2.0\n",
      "19      1     20     5     2.0\n",
      "18      1     19     5     2.0\n",
      "21      1     22     6     2.0\n",
      "22      1     23     7     2.0\n",
      "23      1     24     6     2.0\n",
      "34      1     35     6     1.0\n",
      "24      1     25     6     1.0\n",
      "39      1     40     6     1.0\n",
      "16      1     17     5     1.0\n",
      "31      1     32     6     1.0\n",
      "47      1     48     6     1.0\n",
      "28      1     29     6     1.0\n",
      "49      1     50     8     1.0\n"
     ]
    }
   ],
   "source": [
    "display(target)"
   ]
  },
  {
   "cell_type": "code",
   "execution_count": null,
   "metadata": {
    "collapsed": true
   },
   "outputs": [],
   "source": []
  }
 ],
 "metadata": {
  "kernelspec": {
   "display_name": "Python 3",
   "language": "python",
   "name": "python3"
  },
  "language_info": {
   "codemirror_mode": {
    "name": "ipython",
    "version": 3
   },
   "file_extension": ".py",
   "mimetype": "text/x-python",
   "name": "python",
   "nbconvert_exporter": "python",
   "pygments_lexer": "ipython3",
   "version": "3.6.1"
  }
 },
 "nbformat": 4,
 "nbformat_minor": 2
}
